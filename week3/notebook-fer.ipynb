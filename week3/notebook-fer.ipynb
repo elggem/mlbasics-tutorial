{
  "nbformat": 4,
  "nbformat_minor": 0,
  "metadata": {
    "colab": {
      "name": "[Adapt] ML Engineering Tutorial FER",
      "provenance": [],
      "collapsed_sections": [
        "xja7V6tCqU4L"
      ]
    },
    "kernelspec": {
      "name": "python3",
      "display_name": "Python 3"
    },
    "language_info": {
      "name": "python"
    },
    "accelerator": "GPU"
  },
  "cells": [
    {
      "cell_type": "markdown",
      "metadata": {
        "id": "v_6EilhOqCu7"
      },
      "source": [
        "# ML Engineering Tutorial: Facial Expression Recognition\n",
        "*Tutor: Ralf Mayet (mayet@campus.tu-berlin.de)<br>Adaptive Systems Group, Humboldt University Berlin*\n",
        "\n",
        "**Scope:** Train a machine learning model to classify facial expressions based on a labelled dataset according to Ekman's \"six basic emotions\" [1].\n",
        "\n",
        "**Important:** Facial Expression Recognition models trained on the \"six basic emotion\" categories are often also called \"emotion detection\". However, emotions are complex and exact classification and recognition of them remain challenging areas of research. We will be discussing some of these aspects during the development and in the final evaluation of our model.\n",
        "\n",
        "## References\n",
        "\n",
        "  - [1] https://en.wikipedia.org/wiki/Emotion#Basic_emotions\n",
        "  - [2] http://deeplearning.net/icml2013-workshop-competition\n",
        "  - [3] https://github.com/nhduong/fer2013 (Model implementation based on this)\n",
        "  - [4] https://github.com/shantnu/Webcam-Face-Detect (Webcam demo implementation based on this)\n",
        "  - [5] https://www.kaggle.com/c/challenges-in-representation-learning-facial-expression-recognition-challenge/data"
      ]
    },
    {
      "cell_type": "markdown",
      "metadata": {
        "id": "xja7V6tCqU4L"
      },
      "source": [
        "# Data\n",
        "\n",
        "To train our machine learning classifier we first need to find a suitable dataset for training. We established that we need images of faces that are labelled using Ekman's emotion categories: anger, surprise, disgust, sadness, happiness, surprise (and neutral). To find datasets we can use Google, [Google's Datasetsearch](https://datasetsearch.research.google.com) or other resources like [Papers With Code](https://paperswithcode.com). Important things to look out for when researching datasets is licensing conditions, amount of data and quality of annotations.\n",
        "\n",
        "In this tutorial we will be using the [FER2013 Dataset from a Kaggle Machine Learning Competition](https://www.kaggle.com/c/challenges-in-representation-learning-facial-expression-recognition-challenge/data) (see also reference [2]). After downloading the dataset we extract the file called `fer2013.csv` and make it accessible to this script/notebook."
      ]
    },
    {
      "cell_type": "code",
      "metadata": {
        "id": "0gJqKuKns0_Y"
      },
      "source": [
        "# Importing packages\n",
        "import numpy as np\n",
        "import matplotlib.pyplot as plt"
      ],
      "execution_count": null,
      "outputs": []
    },
    {
      "cell_type": "code",
      "metadata": {
        "id": "FQVhUWV5sI_3"
      },
      "source": [
        "# Loading the dataset\n",
        "datapath = '/content/drive/MyDrive/FER/fer2013.csv'\n",
        "dataset = np.genfromtxt(datapath, delimiter=',', skip_header=1, dtype=str)"
      ],
      "execution_count": null,
      "outputs": []
    },
    {
      "cell_type": "code",
      "metadata": {
        "colab": {
          "base_uri": "https://localhost:8080/"
        },
        "id": "yn6xuitiuKN4",
        "outputId": "e424674a-e917-454d-fc1e-e2b95ab585d6"
      },
      "source": [
        "# Examining the dataset\n",
        "print(\"Dataset Shape: \" + str(dataset.shape)) # Output: (35887, 3)\n",
        "\n",
        "# From inspecting the data we know that the content of each row is: \n",
        "#   0: emotion ID\n",
        "#   1: pixels (space seperated)\n",
        "#   2: usage (\"Training/Test/Validation\")"
      ],
      "execution_count": null,
      "outputs": [
        {
          "output_type": "stream",
          "text": [
            "Dataset Shape: (35887, 3)\n"
          ],
          "name": "stdout"
        }
      ]
    },
    {
      "cell_type": "code",
      "metadata": {
        "colab": {
          "base_uri": "https://localhost:8080/"
        },
        "id": "-3FUAb5zytFi",
        "outputId": "24a83cc1-079f-44b5-ea8d-0fd7f26122f2"
      },
      "source": [
        "# Print emotion categories of the first 10 samples:\n",
        "print(\"Emotion IDs: \" + str(dataset[:10,0]))\n",
        "# From [5] we can see that 0=Angry, 1=Disgust, 2=Fear, 3=Happy, 4=Sad, 5=Surprise, 6=Neutral:\n",
        "emotion_ids = [\"anger\", \"disgust\", \"fear\", \"happy\", \"sad\", \"surprise\", \"neutral\"]\n",
        "print(\"Emotion Categories: \" + str([emotion_ids[int(e)] for e in dataset[:10,0]]))"
      ],
      "execution_count": null,
      "outputs": [
        {
          "output_type": "stream",
          "text": [
            "Emotion IDs: ['0' '0' '2' '4' '6' '2' '4' '3' '3' '2']\n",
            "Emotion Categories: ['anger', 'anger', 'fear', 'sad', 'neutral', 'fear', 'sad', 'happy', 'happy', 'fear']\n"
          ],
          "name": "stdout"
        }
      ]
    },
    {
      "cell_type": "code",
      "metadata": {
        "colab": {
          "base_uri": "https://localhost:8080/",
          "height": 332
        },
        "id": "lbgEaoAa68Bl",
        "outputId": "c2113900-a573-483f-a189-b89435cfc94c"
      },
      "source": [
        "# Histogram of emotion categories in data\n",
        "emotions = [emotion_ids[int(e)] for e in dataset[:,0]]\n",
        "plt.title(\"Distribution of labels in dataset\")\n",
        "plt.hist(emotions, bins=np.arange(8)-0.4, width=0.8)"
      ],
      "execution_count": null,
      "outputs": [
        {
          "output_type": "execute_result",
          "data": {
            "text/plain": [
              "(array([4953., 5121., 6077., 6198., 8989., 4002.,  547.]),\n",
              " array([-0.4,  0.6,  1.6,  2.6,  3.6,  4.6,  5.6,  6.6]),\n",
              " <a list of 7 Patch objects>)"
            ]
          },
          "metadata": {
            "tags": []
          },
          "execution_count": 7
        },
        {
          "output_type": "display_data",
          "data": {
            "image/png": "[encoded data removed]",
            "text/plain": [
              "<Figure size 432x288 with 1 Axes>"
            ]
          },
          "metadata": {
            "tags": [],
            "needs_background": "light"
          }
        }
      ]
    },
    {
      "cell_type": "code",
      "metadata": {
        "colab": {
          "base_uri": "https://localhost:8080/"
        },
        "id": "s2EySoWhyuWz",
        "outputId": "f920f062-6aba-4cc4-f64e-5bd91a5b3d3a"
      },
      "source": [
        "# Print usage types of the first 10 samples:\n",
        "print(\"Usage Types: \" + str(dataset[:10,2]))"
      ],
      "execution_count": null,
      "outputs": [
        {
          "output_type": "stream",
          "text": [
            "Usage Types: ['Training' 'Training' 'Training' 'Training' 'Training' 'Training'\n",
            " 'Training' 'Training' 'Training' 'Training']\n"
          ],
          "name": "stdout"
        }
      ]
    },
    {
      "cell_type": "code",
      "metadata": {
        "colab": {
          "base_uri": "https://localhost:8080/",
          "height": 420
        },
        "id": "XiDU4XBfyubV",
        "outputId": "ff42868c-2d45-4755-e1f2-b0e0fbe1dc0c"
      },
      "source": [
        "# Visualize random image\n",
        "random_id = np.random.randint(0,dataset.shape[0])\n",
        "print(\"visualizing picture id %d\" % random_id)\n",
        "\n",
        "image_pixel_string = dataset[random_id,1]\n",
        "image_pixel_string_list = image_pixel_string.split(\" \")\n",
        "image_pixel_int_list = [int(pixel) for pixel in image_pixel_string_list]\n",
        "\n",
        "image = np.array(image_pixel_int_list)\n",
        "image = image.reshape((48,48))\n",
        "\n",
        "print(image)\n",
        "plt.imshow(image)\n",
        "\n",
        "print(\"Emotion Label: %s\" % emotion_ids[int(dataset[random_id, 0])])\n"
      ],
      "execution_count": null,
      "outputs": [
        {
          "output_type": "stream",
          "text": [
            "visualizing picture id 11633\n",
            "[[ 91 100  94 ...  17  18  30]\n",
            " [ 97 102  96 ...  20  13  19]\n",
            " [103  97  93 ...  24  17  15]\n",
            " ...\n",
            " [ 51  47  38 ...  45  41  46]\n",
            " [ 46  41  32 ...  46  49  50]\n",
            " [138 126 104 ...  47  53  51]]\n",
            "Emotion Label: surprise\n"
          ],
          "name": "stdout"
        },
        {
          "output_type": "display_data",
          "data": {
            "image/png": "[encoded data removed]",
            "text/plain": [
              "<Figure size 432x288 with 1 Axes>"
            ]
          },
          "metadata": {
            "tags": [],
            "needs_background": "light"
          }
        }
      ]
    },
    {
      "cell_type": "code",
      "metadata": {
        "colab": {
          "base_uri": "https://localhost:8080/"
        },
        "id": "uDhuMPr2yugs",
        "outputId": "fafb3b49-ccf0-4d93-8e5d-393344f6a959"
      },
      "source": [
        "# Generate One-Hot Encoding labels from raw data\n",
        "emotion_ids = [int(emotion_category) for emotion_category in dataset[:,0]]\n",
        "n_values = np.max(emotion_ids) + 1\n",
        "\n",
        "# See https://www.pythonprogramming.in/numpy-eye-array-example.html\n",
        "y = np.eye(n_values)[emotion_ids]\n",
        "\n",
        "print(\"One hot encoding labels in y:\")\n",
        "print(y)"
      ],
      "execution_count": null,
      "outputs": [
        {
          "output_type": "stream",
          "text": [
            "One hot encoding labels in y:\n",
            "[[1. 0. 0. ... 0. 0. 0.]\n",
            " [1. 0. 0. ... 0. 0. 0.]\n",
            " [0. 0. 1. ... 0. 0. 0.]\n",
            " ...\n",
            " [1. 0. 0. ... 0. 0. 0.]\n",
            " [0. 0. 0. ... 0. 0. 0.]\n",
            " [0. 0. 1. ... 0. 0. 0.]]\n"
          ],
          "name": "stdout"
        }
      ]
    },
    {
      "cell_type": "code",
      "metadata": {
        "id": "Teooj6Bu0BWi"
      },
      "source": [
        "# Generate Large Matrix for pixel values\n",
        "picture_data = [img_string.split(\" \") for img_string in dataset[:,1]]\n",
        "picture_data = np.array(picture_data, dtype=int)\n",
        "X = picture_data.reshape(picture_data.shape[0], 48, 48, 1)"
      ],
      "execution_count": null,
      "outputs": []
    },
    {
      "cell_type": "code",
      "metadata": {
        "colab": {
          "base_uri": "https://localhost:8080/",
          "height": 284
        },
        "id": "YOqoVQWs1Q9Q",
        "outputId": "05a84bf8-c40e-4a61-8cbe-2a0f016a0e86"
      },
      "source": [
        "# plot single image\n",
        "plt.imshow(X[0,:,:,0])\n",
        "print(y[0])"
      ],
      "execution_count": null,
      "outputs": [
        {
          "output_type": "stream",
          "text": [
            "[1. 0. 0. 0. 0. 0. 0.]\n"
          ],
          "name": "stdout"
        },
        {
          "output_type": "display_data",
          "data": {
            "image/png": "[encoded data removed]",
            "text/plain": [
              "<Figure size 432x288 with 1 Axes>"
            ]
          },
          "metadata": {
            "tags": [],
            "needs_background": "light"
          }
        }
      ]
    },
    {
      "cell_type": "code",
      "metadata": {
        "id": "OQb3VOtj17nM"
      },
      "source": [
        "# Make sure we are on the right track\n",
        "assert(X.shape[0] == y.shape[0])"
      ],
      "execution_count": null,
      "outputs": []
    },
    {
      "cell_type": "code",
      "metadata": {
        "colab": {
          "base_uri": "https://localhost:8080/"
        },
        "id": "2vbYmUKbt6gp",
        "outputId": "9e9e9a9d-22a2-43d8-862d-bccf81001e63"
      },
      "source": [
        "# Split data for consumption by model\n",
        "training_examples = int(X.shape[0] * 0.8) # 80% split\n",
        "\n",
        "x_training = X[:training_examples]\n",
        "y_training = y[:training_examples]\n",
        "\n",
        "x_testing = X[training_examples:]\n",
        "y_testing = y[training_examples:]\n",
        "\n",
        "# We could make a validation dataset here...\n",
        "\n",
        "print(\"number of training examples: %i\" % x_training.shape[0])\n",
        "print(\"number of testing examples: %i\" % x_testing.shape[0])\n"
      ],
      "execution_count": null,
      "outputs": [
        {
          "output_type": "stream",
          "text": [
            "number of training examples: 28709\n",
            "number of testing examples: 7178\n"
          ],
          "name": "stdout"
        }
      ]
    },
    {
      "cell_type": "markdown",
      "metadata": {
        "id": "D64vqo7KqXT8"
      },
      "source": [
        "# Model"
      ]
    },
    {
      "cell_type": "code",
      "metadata": {
        "id": "hFEtA1dksIQ3"
      },
      "source": [
        "# Importing packages\n",
        "from tensorflow.keras.models import Sequential\n",
        "from tensorflow.keras.layers import Conv2D, Dense, Flatten, MaxPooling2D, Dropout\n",
        "from tensorflow.keras.optimizers import Adam\n",
        "from tensorflow.keras.callbacks import EarlyStopping\n",
        "from tensorflow.keras.regularizers import l1, l2"
      ],
      "execution_count": null,
      "outputs": []
    },
    {
      "cell_type": "code",
      "metadata": {
        "id": "rzXd0YeOuP95"
      },
      "source": [
        "# Create our model\n",
        "n_classes = 7\n",
        "img_dim = 48\n",
        "\n",
        "model = Sequential()\n",
        "model.add(Conv2D(64, (3, 3), activation='relu', padding='same', input_shape = (48, 48, 1)))\n",
        "model.add(Conv2D(64, (3, 3), activation='relu'))\n",
        "model.add(MaxPooling2D(pool_size=(2, 2)))\n",
        "model.add(Dropout(0.25))\n",
        "model.add(Conv2D(128, (3, 3), activation='relu', padding='same'))\n",
        "model.add(Conv2D(128, (3, 3), activation='relu'))\n",
        "model.add(Conv2D(256, (3, 3), activation='relu', padding='same'))\n",
        "model.add(Conv2D(256, (3, 3), activation='relu'))\n",
        "model.add(MaxPooling2D(pool_size=(2, 2)))\n",
        "model.add(Dropout(0.25))\n",
        "model.add(Flatten())\n",
        "model.add(Dense(1024, activation='relu', kernel_regularizer=l2(0.001)))\n",
        "model.add(Dropout(0.5))\n",
        "model.add(Dense(n_classes, activation='softmax'))\n",
        "\n",
        "# Initialize Optimizer\n",
        "opt = Adam(lr=0.0001, decay=10e-6)\n",
        "\n",
        " #https://gombru.github.io/2018/05/23/cross_entropy_loss/\n",
        "model.compile(loss='categorical_crossentropy', optimizer=opt, metrics=['accuracy'])"
      ],
      "execution_count": null,
      "outputs": []
    },
    {
      "cell_type": "code",
      "metadata": {
        "colab": {
          "base_uri": "https://localhost:8080/"
        },
        "id": "T_fSwdbSuTnj",
        "outputId": "0ca14498-90ba-4510-d878-35fe984bd08e"
      },
      "source": [
        "# Set Training parameters and train model\n",
        "batch_size = 128\n",
        "n_epoches = 500\n",
        "early_stopping = EarlyStopping(monitor='val_loss', patience=20)\n",
        "\n",
        "# Takes around 30 epochs (43s/epoch on Colab GPU == 22minutes)\n",
        "history = model.fit(x_training, y_training, batch_size=batch_size, epochs=n_epoches,\n",
        "          validation_data=(x_testing, y_testing), shuffle=True,\n",
        "          callbacks=[early_stopping])\n"
      ],
      "execution_count": 17,
      "outputs": [
        {
          "output_type": "stream",
          "text": [
            "Epoch 1/500\n",
            "225/225 [==============================] - 55s 91ms/step - loss: 4.9625 - accuracy: 0.2272 - val_loss: 3.2227 - val_accuracy: 0.3412\n",
            "Epoch 2/500\n",
            "225/225 [==============================] - 19s 86ms/step - loss: 3.1226 - accuracy: 0.3479 - val_loss: 2.7932 - val_accuracy: 0.4349\n",
            "Epoch 3/500\n",
            "225/225 [==============================] - 20s 87ms/step - loss: 2.7651 - accuracy: 0.4306 - val_loss: 2.5350 - val_accuracy: 0.4760\n",
            "Epoch 4/500\n",
            "225/225 [==============================] - 20s 88ms/step - loss: 2.4919 - accuracy: 0.4911 - val_loss: 2.3487 - val_accuracy: 0.5060\n",
            "Epoch 5/500\n",
            "225/225 [==============================] - 20s 88ms/step - loss: 2.2867 - accuracy: 0.5251 - val_loss: 2.1691 - val_accuracy: 0.5475\n",
            "Epoch 6/500\n",
            "225/225 [==============================] - 20s 89ms/step - loss: 2.1002 - accuracy: 0.5673 - val_loss: 2.0704 - val_accuracy: 0.5564\n",
            "Epoch 7/500\n",
            "225/225 [==============================] - 20s 90ms/step - loss: 1.9426 - accuracy: 0.6076 - val_loss: 1.9752 - val_accuracy: 0.5777\n",
            "Epoch 8/500\n",
            "225/225 [==============================] - 20s 90ms/step - loss: 1.7823 - accuracy: 0.6542 - val_loss: 1.9238 - val_accuracy: 0.5875\n",
            "Epoch 9/500\n",
            "225/225 [==============================] - 20s 91ms/step - loss: 1.6217 - accuracy: 0.7024 - val_loss: 1.8888 - val_accuracy: 0.5978\n",
            "Epoch 10/500\n",
            "225/225 [==============================] - 20s 91ms/step - loss: 1.4861 - accuracy: 0.7468 - val_loss: 1.9028 - val_accuracy: 0.6096\n",
            "Epoch 11/500\n",
            "225/225 [==============================] - 21s 91ms/step - loss: 1.3318 - accuracy: 0.7963 - val_loss: 1.9466 - val_accuracy: 0.6041\n",
            "Epoch 12/500\n",
            "225/225 [==============================] - 21s 92ms/step - loss: 1.2225 - accuracy: 0.8323 - val_loss: 1.9906 - val_accuracy: 0.6078\n",
            "Epoch 13/500\n",
            "225/225 [==============================] - 21s 92ms/step - loss: 1.1292 - accuracy: 0.8623 - val_loss: 2.0063 - val_accuracy: 0.6066\n",
            "Epoch 14/500\n",
            "225/225 [==============================] - 21s 92ms/step - loss: 1.0506 - accuracy: 0.8862 - val_loss: 2.0965 - val_accuracy: 0.6115\n",
            "Epoch 15/500\n",
            "225/225 [==============================] - 21s 92ms/step - loss: 0.9880 - accuracy: 0.9025 - val_loss: 2.1839 - val_accuracy: 0.6098\n",
            "Epoch 16/500\n",
            "225/225 [==============================] - 21s 92ms/step - loss: 0.9360 - accuracy: 0.9189 - val_loss: 2.1321 - val_accuracy: 0.6163\n",
            "Epoch 17/500\n",
            "225/225 [==============================] - 21s 92ms/step - loss: 0.8814 - accuracy: 0.9321 - val_loss: 2.1794 - val_accuracy: 0.6121\n",
            "Epoch 18/500\n",
            "225/225 [==============================] - 21s 92ms/step - loss: 0.8514 - accuracy: 0.9362 - val_loss: 2.1849 - val_accuracy: 0.6101\n",
            "Epoch 19/500\n",
            "225/225 [==============================] - 21s 92ms/step - loss: 0.8153 - accuracy: 0.9445 - val_loss: 2.2729 - val_accuracy: 0.6063\n",
            "Epoch 20/500\n",
            "225/225 [==============================] - 21s 92ms/step - loss: 0.7861 - accuracy: 0.9478 - val_loss: 2.2314 - val_accuracy: 0.6081\n",
            "Epoch 21/500\n",
            "225/225 [==============================] - 21s 92ms/step - loss: 0.7624 - accuracy: 0.9523 - val_loss: 2.2836 - val_accuracy: 0.6085\n",
            "Epoch 22/500\n",
            "225/225 [==============================] - 21s 92ms/step - loss: 0.7473 - accuracy: 0.9555 - val_loss: 2.2246 - val_accuracy: 0.6149\n",
            "Epoch 23/500\n",
            "225/225 [==============================] - 21s 92ms/step - loss: 0.7250 - accuracy: 0.9558 - val_loss: 2.1814 - val_accuracy: 0.6173\n",
            "Epoch 24/500\n",
            "225/225 [==============================] - 21s 92ms/step - loss: 0.7015 - accuracy: 0.9586 - val_loss: 2.2794 - val_accuracy: 0.6116\n",
            "Epoch 25/500\n",
            "225/225 [==============================] - 21s 92ms/step - loss: 0.6858 - accuracy: 0.9629 - val_loss: 2.2508 - val_accuracy: 0.6102\n",
            "Epoch 26/500\n",
            "225/225 [==============================] - 21s 92ms/step - loss: 0.6759 - accuracy: 0.9619 - val_loss: 2.1829 - val_accuracy: 0.6169\n",
            "Epoch 27/500\n",
            "225/225 [==============================] - 21s 92ms/step - loss: 0.6672 - accuracy: 0.9635 - val_loss: 2.2548 - val_accuracy: 0.6126\n",
            "Epoch 28/500\n",
            "225/225 [==============================] - 21s 92ms/step - loss: 0.6415 - accuracy: 0.9660 - val_loss: 2.2760 - val_accuracy: 0.6131\n",
            "Epoch 29/500\n",
            "225/225 [==============================] - 21s 92ms/step - loss: 0.6325 - accuracy: 0.9664 - val_loss: 2.1740 - val_accuracy: 0.6186\n"
          ],
          "name": "stdout"
        }
      ]
    },
    {
      "cell_type": "code",
      "metadata": {
        "id": "aa-j2-4u3o_B",
        "colab": {
          "base_uri": "https://localhost:8080/",
          "height": 590
        },
        "outputId": "15bfc2b7-a5bb-4ab3-ffec-57efe29a281e"
      },
      "source": [
        "# Plot the training loss and model accuracy\n",
        "print(history.history.keys())\n",
        "\n",
        "# summarize history for accuracy\n",
        "plt.plot(history.history['accuracy'])\n",
        "plt.plot(history.history['val_accuracy'])\n",
        "plt.title('model accuracy')\n",
        "plt.ylabel('accuracy')\n",
        "plt.xlabel('epoch')\n",
        "plt.legend(['train', 'test'], loc='upper left')\n",
        "plt.show()\n",
        "\n",
        "# summarize history for loss\n",
        "plt.plot(history.history['loss'])\n",
        "plt.plot(history.history['val_loss'])\n",
        "plt.title('model loss')\n",
        "plt.ylabel('loss')\n",
        "plt.xlabel('epoch')\n",
        "plt.legend(['train', 'test'], loc='upper left')\n",
        "plt.show()"
      ],
      "execution_count": 28,
      "outputs": [
        {
          "output_type": "stream",
          "text": [
            "dict_keys(['loss', 'accuracy', 'val_loss', 'val_accuracy'])\n"
          ],
          "name": "stdout"
        },
        {
          "output_type": "display_data",
          "data": {
            "image/png": "[encoded data removed]",
            "text/plain": [
              "<Figure size 432x288 with 1 Axes>"
            ]
          },
          "metadata": {
            "tags": [],
            "needs_background": "light"
          }
        },
        {
          "output_type": "display_data",
          "data": {
            "image/png": "[encoded data removed]",
            "text/plain": [
              "<Figure size 432x288 with 1 Axes>"
            ]
          },
          "metadata": {
            "tags": [],
            "needs_background": "light"
          }
        }
      ]
    },
    {
      "cell_type": "code",
      "metadata": {
        "id": "ewBdkdm0udxd"
      },
      "source": [
        "# Save model parameters to file\n",
        "model.save('fer2013.h5')\n",
        "model.save_weights('fer2013_weights.h5')"
      ],
      "execution_count": 19,
      "outputs": []
    },
    {
      "cell_type": "markdown",
      "metadata": {
        "id": "OQhDJs-tqXW5"
      },
      "source": [
        "# Evaluation: Offline"
      ]
    },
    {
      "cell_type": "code",
      "metadata": {
        "id": "EmS46WNiugoK",
        "colab": {
          "base_uri": "https://localhost:8080/"
        },
        "outputId": "06f3413a-6404-42a3-b8c6-e3167389536d"
      },
      "source": [
        "# Accuracy on testing dataset\n",
        "scores = model.evaluate(x_testing, y_testing)\n",
        "print('%s: %.2f%%'% (model.metrics_names[1], scores[1]*100))"
      ],
      "execution_count": 20,
      "outputs": [
        {
          "output_type": "stream",
          "text": [
            "225/225 [==============================] - 2s 9ms/step - loss: 2.1740 - accuracy: 0.6186\n",
            "accuracy: 61.86%\n"
          ],
          "name": "stdout"
        }
      ]
    },
    {
      "cell_type": "code",
      "metadata": {
        "id": "XOztqHsZE-IA",
        "colab": {
          "base_uri": "https://localhost:8080/",
          "height": 307
        },
        "outputId": "1c99c30d-867d-4bc5-c77c-51bc8aa3045a"
      },
      "source": [
        "# Confusion Matrix\n",
        "from sklearn.metrics import confusion_matrix\n",
        "from sklearn.metrics import plot_confusion_matrix\n",
        "\n",
        "predictions = model.predict(x_testing)\n",
        "\n",
        "emotion_ids = [\"anger\", \"disgust\", \"fear\", \"happy\", \"sad\", \"surprise\", \"neutral\"]\n",
        "y_true = [emotion_ids[int(e)] for e in np.argmax(y_testing, axis=1)]\n",
        "y_pred = [emotion_ids[int(e)] for e in np.argmax(predictions, axis=1)]\n",
        "\n",
        "confusion_mat = confusion_matrix(y_true, y_pred)\n",
        "\n",
        "fig, ax = plt.subplots(1,1)\n",
        "plt.title(\"Confusion matrix test data\")\n",
        "img = ax.imshow(confusion_mat)\n",
        "ax.set_xticks(np.arange(7))\n",
        "ax.set_xticklabels(emotion_ids, rotation = 45)\n",
        "ax.set_yticks(np.arange(7))\n",
        "ax.set_yticklabels(emotion_ids, rotation = 45)\n",
        "plt.show()"
      ],
      "execution_count": 21,
      "outputs": [
        {
          "output_type": "display_data",
          "data": {
            "image/png": "[encoded data removed]",
            "text/plain": [
              "<Figure size 432x288 with 1 Axes>"
            ]
          },
          "metadata": {
            "tags": [],
            "needs_background": "light"
          }
        }
      ]
    },
    {
      "cell_type": "code",
      "metadata": {
        "colab": {
          "base_uri": "https://localhost:8080/",
          "height": 307
        },
        "id": "VDXZ3-1ED_pG",
        "outputId": "bedd3167-4521-46f1-d3b1-ced2061f5ece"
      },
      "source": [
        "# Confusion Matrix\n",
        "from sklearn.metrics import confusion_matrix\n",
        "from sklearn.metrics import plot_confusion_matrix\n",
        "\n",
        "predictions = model.predict(x_training)\n",
        "\n",
        "emotion_ids = [\"anger\", \"disgust\", \"fear\", \"happy\", \"sad\", \"surprise\", \"neutral\"]\n",
        "y_true = [emotion_ids[int(e)] for e in np.argmax(y_training, axis=1)]\n",
        "y_pred = [emotion_ids[int(e)] for e in np.argmax(predictions, axis=1)]\n",
        "\n",
        "confusion_mat = confusion_matrix(y_true, y_pred)\n",
        "\n",
        "fig, ax = plt.subplots(1,1)\n",
        "plt.title(\"Confusion matrix training data\")\n",
        "img = ax.imshow(confusion_mat)\n",
        "ax.set_xticks(np.arange(7))\n",
        "ax.set_xticklabels(emotion_ids, rotation = 45)\n",
        "ax.set_yticks(np.arange(7))\n",
        "ax.set_yticklabels(emotion_ids, rotation = 45)\n",
        "plt.show()"
      ],
      "execution_count": 30,
      "outputs": [
        {
          "output_type": "display_data",
          "data": {
            "image/png": "[encoded data removed]",
            "text/plain": [
              "<Figure size 432x288 with 1 Axes>"
            ]
          },
          "metadata": {
            "tags": [],
            "needs_background": "light"
          }
        }
      ]
    },
    {
      "cell_type": "code",
      "metadata": {
        "id": "xJs4g_tXu8fo",
        "colab": {
          "base_uri": "https://localhost:8080/",
          "height": 318
        },
        "outputId": "0905d289-093f-4d1f-bb7c-88301aad660f"
      },
      "source": [
        "# Test individual image\n",
        "random_id = np.random.randint(0,x_testing.shape[0])\n",
        "sample = x_testing[random_id, :]\n",
        "sample = sample.reshape(48, 48)\n",
        "\n",
        "pred_cls = model.predict(sample.reshape(1, 48, 48, 1))\n",
        "\n",
        "plt.imshow(sample, cmap='gray')\n",
        "plt.show()\n",
        "\n",
        "ground_truth_emotion = emotion_ids[np.argmax(y_testing[random_id, :])]\n",
        "predicted_emotion = emotion_ids[np.argmax(pred_cls)]\n",
        "\n",
        "print('testing image index: %d\\ntrue emotion: %s\\npredicted emotion: %s' % (random_id, ground_truth_emotion, predicted_emotion))"
      ],
      "execution_count": 22,
      "outputs": [
        {
          "output_type": "display_data",
          "data": {
            "image/png": "[encoded data removed]",
            "text/plain": [
              "<Figure size 432x288 with 1 Axes>"
            ]
          },
          "metadata": {
            "tags": [],
            "needs_background": "light"
          }
        },
        {
          "output_type": "stream",
          "text": [
            "testing image index: 4046\n",
            "true emotion: anger\n",
            "predicted emotion: anger\n"
          ],
          "name": "stdout"
        }
      ]
    },
    {
      "cell_type": "markdown",
      "metadata": {
        "id": "gE2w7n_HvPND"
      },
      "source": [
        "# Evaluation: Online using Webcam\n",
        "\n",
        "We can evaluate the performance of our classification algorithm in a real-time setting using a webcam. This way we can tell if it will be useful for example to use it in a human-robot interaction study setting using a robot camera to sense and respond to the facial expression of a user.\n",
        "\n",
        "- See Demo on Desktop"
      ]
    }
  ]
}