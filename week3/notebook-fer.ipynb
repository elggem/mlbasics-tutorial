{
  "nbformat": 4,
  "nbformat_minor": 0,
  "metadata": {
    "colab": {
      "name": "[Adapt] ML Engineering Tutorial FER",
      "provenance": [],
      "collapsed_sections": []
    },
    "kernelspec": {
      "name": "python3",
      "display_name": "Python 3"
    },
    "language_info": {
      "name": "python"
    },
    "accelerator": "GPU"
  },
  "cells": [
    {
      "cell_type": "markdown",
      "metadata": {
        "id": "v_6EilhOqCu7"
      },
      "source": [
        "# ML Engineering Tutorial: Facial Expression Recognition\n",
        "*Tutor: Ralf Mayet (mayet@campus.tu-berlin.de)<br>Adaptive Systems Group, Humboldt University Berlin*\n",
        "\n",
        "**Scope:** Train a machine learning model to classify facial expressions based on a labelled dataset according to Ekman's \"six basic emotions\" [1].\n",
        "\n",
        "**Important:** Facial Expression Recognition models trained on the \"six basic emotion\" categories are often also called \"emotion detection\". However, emotions are complex and exact classification and recognition of them remain challenging areas of research. We will be discussing some of these aspects during the development and in the final evaluation of our model.\n",
        "\n",
        "## References\n",
        "\n",
        "  - [1] https://en.wikipedia.org/wiki/Emotion#Basic_emotions\n",
        "  - [2] http://deeplearning.net/icml2013-workshop-competition\n",
        "  - [3] https://github.com/nhduong/fer2013 (Model implementation based on this)\n",
        "  - [4] https://github.com/shantnu/Webcam-Face-Detect (Webcam demo implementation based on this)\n",
        "  - [5] https://www.kaggle.com/c/challenges-in-representation-learning-facial-expression-recognition-challenge/data"
      ]
    },
    {
      "cell_type": "markdown",
      "metadata": {
        "id": "xja7V6tCqU4L"
      },
      "source": [
        "# Data\n",
        "\n",
        "To train our machine learning classifier we first need to find a suitable dataset for training. We established that we need images of faces that are labelled using Ekman's emotion categories: anger, surprise, disgust, sadness, happiness, surprise (and neutral). To find datasets we can use Google, [Google's Datasetsearch](https://datasetsearch.research.google.com) or other resources like [Papers With Code](https://paperswithcode.com). Important things to look out for when researching datasets is licensing conditions, amount of data and quality of annotations.\n",
        "\n",
        "In this tutorial we will be using the [FER2013 Dataset from a Kaggle Machine Learning Competition](https://www.kaggle.com/c/challenges-in-representation-learning-facial-expression-recognition-challenge/data) (see also reference [2]). After downloading the dataset we extract the file called `fer2013.csv` and make it accessible to this script/notebook."
      ]
    },
    {
      "cell_type": "code",
      "metadata": {
        "id": "0gJqKuKns0_Y"
      },
      "source": [
        "# Importing packages\n",
        "import numpy as np\n",
        "import matplotlib.pyplot as plt"
      ],
      "execution_count": 2,
      "outputs": []
    },
    {
      "cell_type": "code",
      "metadata": {
        "id": "FQVhUWV5sI_3"
      },
      "source": [
        "# Loading the dataset\n",
        "datapath = '/content/drive/MyDrive/FER/fer2013.csv'\n",
        "dataset = np.genfromtxt(datapath, delimiter=',', skip_header=1, dtype=str)"
      ],
      "execution_count": 3,
      "outputs": []
    },
    {
      "cell_type": "code",
      "metadata": {
        "colab": {
          "base_uri": "https://localhost:8080/"
        },
        "id": "yn6xuitiuKN4",
        "outputId": "0cab1229-ef8f-452e-b769-2d63e19464d7"
      },
      "source": [
        "# Examining the dataset\n",
        "print(\"Dataset Shape: \" + str(dataset.shape)) # Output: (35887, 3)\n",
        "\n",
        "# From inspecting the data we know that the content of each row is: \n",
        "#   0: emotion ID\n",
        "#   1: pixels (space seperated)\n",
        "#   2: usage (\"Training/Test/Validation\")"
      ],
      "execution_count": 4,
      "outputs": [
        {
          "output_type": "stream",
          "text": [
            "Dataset Shape: (35887, 3)\n"
          ],
          "name": "stdout"
        }
      ]
    },
    {
      "cell_type": "code",
      "metadata": {
        "colab": {
          "base_uri": "https://localhost:8080/"
        },
        "id": "-3FUAb5zytFi",
        "outputId": "7b7d17b2-96cb-48b5-8a22-0870282320fd"
      },
      "source": [
        "# Print emotion categories of the first 10 samples:\n",
        "print(\"Emotion IDs: \" + str(dataset[:10,0]))\n",
        "# From [5] we can see that 0=Angry, 1=Disgust, 2=Fear, 3=Happy, 4=Sad, 5=Surprise, 6=Neutral:\n",
        "emotion_ids = [\"anger\", \"disgust\", \"fear\", \"happy\", \"sad\", \"surprise\", \"neutral\"]\n",
        "print(\"Emotion Categories: \" + str([emotion_ids[int(e)] for e in dataset[:10,0]]))"
      ],
      "execution_count": 38,
      "outputs": [
        {
          "output_type": "stream",
          "text": [
            "Emotion IDs: ['0' '0' '2' '4' '6' '2' '4' '3' '3' '2']\n",
            "Emotion Categories: ['anger', 'anger', 'fear', 'sad', 'neutral', 'fear', 'sad', 'happy', 'happy', 'fear']\n"
          ],
          "name": "stdout"
        }
      ]
    },
    {
      "cell_type": "code",
      "metadata": {
        "colab": {
          "base_uri": "https://localhost:8080/",
          "height": 332
        },
        "id": "lbgEaoAa68Bl",
        "outputId": "0e3986cc-dfbb-4ce4-f5c5-b6cd4fd78a45"
      },
      "source": [
        "# Histogram of emotion categories in data\n",
        "emotions = [emotion_ids[int(e)] for e in dataset[:,0]]\n",
        "plt.title(\"Distribution of labels in dataset\")\n",
        "plt.hist(emotions, bins=np.arange(7)-0.4, width=0.8)"
      ],
      "execution_count": 54,
      "outputs": [
        {
          "output_type": "execute_result",
          "data": {
            "text/plain": [
              "(array([4953., 5121., 6077., 6198., 8989., 4002.]),\n",
              " array([-0.4,  0.6,  1.6,  2.6,  3.6,  4.6,  5.6]),\n",
              " <a list of 6 Patch objects>)"
            ]
          },
          "metadata": {
            "tags": []
          },
          "execution_count": 54
        },
        {
          "output_type": "display_data",
          "data": {
            "image/png": "[encoded data removed]",
            "text/plain": [
              "<Figure size 432x288 with 1 Axes>"
            ]
          },
          "metadata": {
            "tags": [],
            "needs_background": "light"
          }
        }
      ]
    },
    {
      "cell_type": "code",
      "metadata": {
        "colab": {
          "base_uri": "https://localhost:8080/"
        },
        "id": "s2EySoWhyuWz",
        "outputId": "40227a6e-ee34-4758-f40d-5548791fcaeb"
      },
      "source": [
        "# Print usage types of the first 10 samples:\n",
        "print(\"Usage Types: \" + str(dataset[:10,2]))"
      ],
      "execution_count": 6,
      "outputs": [
        {
          "output_type": "stream",
          "text": [
            "Usage Types: ['Training' 'Training' 'Training' 'Training' 'Training' 'Training'\n",
            " 'Training' 'Training' 'Training' 'Training']\n"
          ],
          "name": "stdout"
        }
      ]
    },
    {
      "cell_type": "code",
      "metadata": {
        "colab": {
          "base_uri": "https://localhost:8080/",
          "height": 420
        },
        "id": "XiDU4XBfyubV",
        "outputId": "b84dfe13-60f2-4076-9c80-0426a8bdcd7b"
      },
      "source": [
        "# Visualize random image\n",
        "random_id = np.random.randint(0,dataset.shape[0])\n",
        "print(\"visualizing picture id %d\" % random_id)\n",
        "\n",
        "image_pixel_string = dataset[random_id,1]\n",
        "image_pixel_string_list = image_pixel_string.split(\" \")\n",
        "image_pixel_int_list = [int(pixel) for pixel in image_pixel_string_list]\n",
        "\n",
        "image = np.array(image_pixel_int_list)\n",
        "image = image.reshape((48,48))\n",
        "\n",
        "print(image)\n",
        "plt.imshow(image)\n",
        "\n",
        "print(\"Emotion Label: %s\" % emotion_ids[int(dataset[random_id, 0])])\n"
      ],
      "execution_count": 7,
      "outputs": [
        {
          "output_type": "stream",
          "text": [
            "visualizing picture id 33888\n",
            "[[22 41 26 ... 14 18 26]\n",
            " [21 38 25 ... 14 15 27]\n",
            " [19 28 13 ... 14 20 43]\n",
            " ...\n",
            " [44 48 19 ... 49 48 49]\n",
            " [41 53 28 ... 42 40 37]\n",
            " [39 50 33 ... 31 31 30]]\n",
            "Emotion Label: happy\n"
          ],
          "name": "stdout"
        },
        {
          "output_type": "display_data",
          "data": {
            "image/png": "[encoded data removed]",
            "text/plain": [
              "<Figure size 432x288 with 1 Axes>"
            ]
          },
          "metadata": {
            "tags": [],
            "needs_background": "light"
          }
        }
      ]
    },
    {
      "cell_type": "code",
      "metadata": {
        "colab": {
          "base_uri": "https://localhost:8080/"
        },
        "id": "uDhuMPr2yugs",
        "outputId": "dcc2aad3-1a63-443d-a160-d49b19ca20ff"
      },
      "source": [
        "# Generate One-Hot Encoding labels from raw data\n",
        "emotion_ids = [int(emotion_category) for emotion_category in dataset[:,0]]\n",
        "n_values = np.max(emotion_ids) + 1\n",
        "\n",
        "# See https://www.pythonprogramming.in/numpy-eye-array-example.html\n",
        "y = np.eye(n_values)[emotion_ids]\n",
        "\n",
        "print(\"One hot encoding labels in y:\")\n",
        "print(y)"
      ],
      "execution_count": 8,
      "outputs": [
        {
          "output_type": "stream",
          "text": [
            "One hot encoding labels in y:\n",
            "[[1. 0. 0. ... 0. 0. 0.]\n",
            " [1. 0. 0. ... 0. 0. 0.]\n",
            " [0. 0. 1. ... 0. 0. 0.]\n",
            " ...\n",
            " [1. 0. 0. ... 0. 0. 0.]\n",
            " [0. 0. 0. ... 0. 0. 0.]\n",
            " [0. 0. 1. ... 0. 0. 0.]]\n"
          ],
          "name": "stdout"
        }
      ]
    },
    {
      "cell_type": "code",
      "metadata": {
        "id": "Teooj6Bu0BWi"
      },
      "source": [
        "# Generate Large Matrix for pixel values\n",
        "picture_data = [img_string.split(\" \") for img_string in dataset[:,1]]\n",
        "picture_data = np.array(picture_data, dtype=int)\n",
        "X = picture_data.reshape(picture_data.shape[0], 48, 48, 1)"
      ],
      "execution_count": 9,
      "outputs": []
    },
    {
      "cell_type": "code",
      "metadata": {
        "colab": {
          "base_uri": "https://localhost:8080/",
          "height": 284
        },
        "id": "YOqoVQWs1Q9Q",
        "outputId": "d60d57a3-7391-4cd4-faa6-56d1acf11161"
      },
      "source": [
        "# plot single image\n",
        "plt.imshow(X[0,:,:,0])\n",
        "print(y[0])"
      ],
      "execution_count": 12,
      "outputs": [
        {
          "output_type": "stream",
          "text": [
            "[1. 0. 0. 0. 0. 0. 0.]\n"
          ],
          "name": "stdout"
        },
        {
          "output_type": "display_data",
          "data": {
            "image/png": "[encoded data removed]",
            "text/plain": [
              "<Figure size 432x288 with 1 Axes>"
            ]
          },
          "metadata": {
            "tags": [],
            "needs_background": "light"
          }
        }
      ]
    },
    {
      "cell_type": "code",
      "metadata": {
        "id": "OQb3VOtj17nM"
      },
      "source": [
        "# Make sure we are on the right track\n",
        "assert(X.shape[0] == y.shape[0])"
      ],
      "execution_count": 13,
      "outputs": []
    },
    {
      "cell_type": "code",
      "metadata": {
        "colab": {
          "base_uri": "https://localhost:8080/"
        },
        "id": "2vbYmUKbt6gp",
        "outputId": "ef1454bc-6c4e-46de-eb7c-174f35b3fc83"
      },
      "source": [
        "# Split data for consumption by model\n",
        "training_examples = int(X.shape[0] * 0.8) # 80% split\n",
        "\n",
        "x_training = X[:training_examples]\n",
        "y_training = y[:training_examples]\n",
        "\n",
        "x_testing = X[training_examples:]\n",
        "y_testing = y[training_examples:]\n",
        "\n",
        "# We could make a validation dataset here...\n",
        "\n",
        "print(\"number of training examples: %i\" % x_training.shape[0])\n",
        "print(\"number of testing examples: %i\" % x_testing.shape[0])\n"
      ],
      "execution_count": 14,
      "outputs": [
        {
          "output_type": "stream",
          "text": [
            "number of training examples: 28709\n",
            "number of testing examples: 7178\n"
          ],
          "name": "stdout"
        }
      ]
    },
    {
      "cell_type": "markdown",
      "metadata": {
        "id": "D64vqo7KqXT8"
      },
      "source": [
        "# Model"
      ]
    },
    {
      "cell_type": "code",
      "metadata": {
        "id": "hFEtA1dksIQ3"
      },
      "source": [
        "# Importing packages\n",
        "from tensorflow.keras.models import Sequential\n",
        "from tensorflow.keras.layers import Conv2D, Dense, Flatten, MaxPooling2D, Dropout\n",
        "from tensorflow.keras.optimizers import Adam\n",
        "from tensorflow.keras.callbacks import EarlyStopping\n",
        "from tensorflow.keras.regularizers import l1, l2"
      ],
      "execution_count": 16,
      "outputs": []
    },
    {
      "cell_type": "code",
      "metadata": {
        "id": "rzXd0YeOuP95"
      },
      "source": [
        "# Create our model\n",
        "n_classes = 7\n",
        "img_dim = 48\n",
        "\n",
        "model = Sequential()\n",
        "\n",
        "model.add(Conv2D(64, (3, 3), activation='relu', padding='same', input_shape = (48, 48, 1)))\n",
        "model.add(Conv2D(64, (3, 3), activation='relu'))\n",
        "model.add(MaxPooling2D(pool_size=(2, 2)))\n",
        "model.add(Dropout(0.25))\n",
        "model.add(Conv2D(128, (3, 3), activation='relu', padding='same'))\n",
        "model.add(Conv2D(128, (3, 3), activation='relu'))\n",
        "model.add(Conv2D(256, (3, 3), activation='relu', padding='same'))\n",
        "model.add(Conv2D(256, (3, 3), activation='relu'))\n",
        "model.add(MaxPooling2D(pool_size=(2, 2)))\n",
        "model.add(Dropout(0.25))\n",
        "model.add(Flatten())\n",
        "model.add(Dense(1024, activation='relu', kernel_regularizer=l2(0.001)))\n",
        "model.add(Dropout(0.5))\n",
        "model.add(Dense(n_classes, activation='softmax'))\n",
        "\n",
        "opt = Adam(lr=0.0001, decay=10e-6)\n",
        "model.compile(loss='categorical_crossentropy', optimizer=opt, metrics=['accuracy'])"
      ],
      "execution_count": 17,
      "outputs": []
    },
    {
      "cell_type": "code",
      "metadata": {
        "colab": {
          "base_uri": "https://localhost:8080/"
        },
        "id": "T_fSwdbSuTnj",
        "outputId": "112b6a6e-fdfa-44a7-f1da-4e4f0ebe9471"
      },
      "source": [
        "# Set Training parameters and train model\n",
        "batch_size = 128\n",
        "n_epoches = 500\n",
        "early_stopping = EarlyStopping(monitor='val_loss', patience=20)\n",
        "\n",
        "# Takes around X epochs (43s/epoch on Colab GPU == )\n",
        "history = model.fit(x_training, y_training, batch_size=batch_size, epochs=n_epoches,\n",
        "          validation_data=(x_testing, y_testing), shuffle=True,\n",
        "          callbacks=[early_stopping])\n"
      ],
      "execution_count": 76,
      "outputs": [
        {
          "output_type": "stream",
          "text": [
            "225/225 [==============================] - 44s 195ms/step - loss: 0.7367 - accuracy: 0.9590 - val_loss: 2.3409 - val_accuracy: 0.6038\n"
          ],
          "name": "stdout"
        }
      ]
    },
    {
      "cell_type": "code",
      "metadata": {
        "colab": {
          "base_uri": "https://localhost:8080/",
          "height": 282
        },
        "id": "aa-j2-4u3o_B",
        "outputId": "256823af-9ad9-4fae-dc34-b5b975bd2a6e"
      },
      "source": [
        "# Plot the training loss and model accuracy\n",
        "print(history.history)\n",
        "plt.plot(history.history['accuracy'])\n",
        "plt.plot(history.history['val_accuracy'])\n",
        "plt.show()"
      ],
      "execution_count": 83,
      "outputs": [
        {
          "output_type": "stream",
          "text": [
            "{'loss': [0.73673415184021], 'accuracy': [0.9590372443199158], 'val_loss': [2.3409438133239746], 'val_accuracy': [0.6037893295288086]}\n"
          ],
          "name": "stdout"
        },
        {
          "output_type": "display_data",
          "data": {
            "image/png": "[encoded data removed]",
            "text/plain": [
              "<Figure size 432x288 with 1 Axes>"
            ]
          },
          "metadata": {
            "tags": [],
            "needs_background": "light"
          }
        }
      ]
    },
    {
      "cell_type": "code",
      "metadata": {
        "id": "ewBdkdm0udxd"
      },
      "source": [
        "# Save model parameters to file\n",
        "model.save('fer2013.h5')\n",
        "model.save_weights('fer2013_weights.h5')"
      ],
      "execution_count": 55,
      "outputs": []
    },
    {
      "cell_type": "markdown",
      "metadata": {
        "id": "OQhDJs-tqXW5"
      },
      "source": [
        "# Evaluation: Offline"
      ]
    },
    {
      "cell_type": "code",
      "metadata": {
        "colab": {
          "base_uri": "https://localhost:8080/"
        },
        "id": "EmS46WNiugoK",
        "outputId": "f35113b5-9e70-48f6-a920-45e189fa16fa"
      },
      "source": [
        "# Accuracy on testing dataset\n",
        "scores = model.evaluate(x_testing, y_testing)\n",
        "print('%s: %.2f%%'% (model.metrics_names[1], scores[1]*100))"
      ],
      "execution_count": 56,
      "outputs": [
        {
          "output_type": "stream",
          "text": [
            "225/225 [==============================] - 5s 19ms/step - loss: 2.4064 - accuracy: 0.6052\n",
            "accuracy: 60.52%\n"
          ],
          "name": "stdout"
        }
      ]
    },
    {
      "cell_type": "code",
      "metadata": {
        "colab": {
          "base_uri": "https://localhost:8080/",
          "height": 318
        },
        "id": "xJs4g_tXu8fo",
        "outputId": "7757efb1-eea3-4076-98d5-253df9627f53"
      },
      "source": [
        "# Test individual image\n",
        "random_id = np.random.randint(0,x_testing.shape[0])\n",
        "sample = x_testing[random_id, :]\n",
        "sample = sample.reshape(48, 48)\n",
        "\n",
        "pred_cls = model.predict(sample.reshape(1, 48, 48, 1))\n",
        "\n",
        "plt.imshow(sample, cmap='gray')\n",
        "plt.show()\n",
        "\n",
        "ground_truth_emotion = emotion_ids[np.argmax(y_testing[random_id, :])]\n",
        "predicted_emotion = emotion_ids[np.argmax(pred_cls)]\n",
        "\n",
        "print('> testing image index: %d\\n> true emotion: %s\\n> predicted emotion: %s' % (random_id, ground_truth_emotion, predicted_emotion))"
      ],
      "execution_count": 75,
      "outputs": [
        {
          "output_type": "display_data",
          "data": {
            "image/png": "[encoded data removed]",
            "text/plain": [
              "<Figure size 432x288 with 1 Axes>"
            ]
          },
          "metadata": {
            "tags": [],
            "needs_background": "light"
          }
        },
        {
          "output_type": "stream",
          "text": [
            "> testing image index: 3936\n",
            "> true emotion: surprise\n",
            "> predicted emotion: surprise\n"
          ],
          "name": "stdout"
        }
      ]
    },
    {
      "cell_type": "markdown",
      "metadata": {
        "id": "gE2w7n_HvPND"
      },
      "source": [
        "# Evaluation: Online using Webcam\n",
        "\n",
        "We can evaluate the performance of our classification algorithm in a real-time setting using a webcam. This way we can tell if it will be useful for example to use it in a human-robot interaction study setting using a robot camera to sense and respond to the facial expression of a user.\n",
        "\n",
        "- See Demo on Desktop"
      ]
    },
    {
      "cell_type": "code",
      "metadata": {
        "id": "PIUlpeKJ_3hw"
      },
      "source": [
        ""
      ],
      "execution_count": null,
      "outputs": []
    }
  ]
}