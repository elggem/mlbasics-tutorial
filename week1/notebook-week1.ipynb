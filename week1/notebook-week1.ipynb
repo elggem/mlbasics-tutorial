{
  "nbformat": 4,
  "nbformat_minor": 0,
  "metadata": {
    "colab": {
      "name": "[Adapt] ML Engineering Tutorial Part 1",
      "provenance": [],
      "collapsed_sections": [
        "JCMasOARK4zE",
        "uyvUcBEmMKht"
      ]
    },
    "kernelspec": {
      "name": "python3",
      "display_name": "Python 3"
    }
  },
  "cells": [
    {
      "cell_type": "markdown",
      "metadata": {
        "id": "g2wMJ9gkJdDW"
      },
      "source": [
        "# ML Engineering Tutorial Part 1\n",
        "*Tutor: Ralf Mayet (mayet@campus.tu-berlin.de)<br>Adaptive Systems Group, Humboldt University Berlin*\n",
        "\n",
        "## Content\n",
        "  - Python Basics (calculations, variables, functions, conditionals, loops and packages)\n",
        "  - Numpy (arrays, properties, calculations and operations)\n",
        "  - Tensorflow (basics, linear regression)\n",
        "\n",
        "## Goals\n",
        "  - Familiarize yourself with the basics of Python, Numpy and Tensorflow.\n",
        "  - Be able to build simple regression models with Tensorflow.\n",
        "  - Build a Sequential multi-layered model with Tensorflow and optimize it.\n",
        "\n",
        "## Sources\n",
        "  - [1] [The Python Tutorial](https://docs.python.org/3/tutorial/)\n",
        "  - [2] [Numpy Quickstart](https://numpy.org/devdocs/user/quickstart.html)\n",
        "  - [3] [Tensorflow and Keras Basic Regression](https://www.tensorflow.org/tutorials/keras/regression)\n",
        "  - [4] [A line-by-line layman’s guide to Linear Regression using TensorFlow](https://towardsdatascience.com/a-line-by-line-laymans-guide-to-linear-regression-using-tensorflow-3c0392aa9e1f) (adapted to TF2)\n",
        "\n",
        "\n",
        "\n"
      ]
    },
    {
      "cell_type": "markdown",
      "metadata": {
        "id": "JCMasOARK4zE"
      },
      "source": [
        "# Part 1A: Python Basics\n",
        "\n",
        "Here we will look at some fundamentals of Python like using it as a calculator, variables, functions, conditionals, loops and packages."
      ]
    },
    {
      "cell_type": "code",
      "metadata": {
        "id": "Sbv1c4EnDofB"
      },
      "source": [
        "# Python as a calculator\n",
        "40 + 2"
      ],
      "execution_count": null,
      "outputs": []
    },
    {
      "cell_type": "code",
      "metadata": {
        "id": "mLwVsAHfJcqF"
      },
      "source": [
        "# Variables\n",
        "\n",
        "# Initialize some numerical variables\n",
        "someNumber = 42\n",
        "result = 0\n",
        "\n",
        "# Perform a calculation and assign to result\n",
        "result = someNumber * 2\n",
        "\n",
        "# Print the result\n",
        "print(result)"
      ],
      "execution_count": null,
      "outputs": []
    },
    {
      "cell_type": "code",
      "metadata": {
        "id": "m8r-zMJBMtrE"
      },
      "source": [
        "# The most important variable types: Strings, Floats, Integers, Lists\n",
        "\n",
        "# Strings of characters\n",
        "someString = \"Hello World!\"\n",
        "someOtherString = \"I have to stay at home 😱 \"\n",
        "\n",
        "print(\"Strings: \")\n",
        "print(someString)\n",
        "print(someOtherString * 5)\n",
        "print(\"---\" * 6)\n",
        "\n",
        "# Floating point numbers and integers (whole numbers)\n",
        "someFloat = 4.2\n",
        "someOtherFloat = 5 / 2\n",
        "\n",
        "print(\"Floats and Integers: \")\n",
        "print(someFloat)\n",
        "print(someOtherFloat)\n",
        "print(int(someOtherFloat))\n",
        "print(\"---\" * 6)\n",
        "\n",
        "# Lists\n",
        "someList = [1, 2, 3]\n",
        "someEmptyList = []\n",
        "\n",
        "print(\"Lists:\")\n",
        "print(someList)\n",
        "print(someEmptyList)\n",
        "\n",
        "# Lists have an append function:\n",
        "someEmptyList.append(42)\n",
        "someEmptyList.append(someList)\n",
        "someEmptyList.append(someString)\n",
        "print(someEmptyList)\n",
        "print(\"---\" * 6)\n"
      ],
      "execution_count": null,
      "outputs": []
    },
    {
      "cell_type": "code",
      "metadata": {
        "id": "1nlSE5ZDLmI6"
      },
      "source": [
        "# Functions\n",
        "\n",
        "# Some built-in functions exist in Python (https://docs.python.org/3/library/functions.html)\n",
        "# We already used print, int, append.\n",
        "\n",
        "# We can also define new functions:\n",
        "def printTwice(whatToPrint):\n",
        "  print(whatToPrint)\n",
        "  print(whatToPrint)\n",
        "\n",
        "printTwice(\"Hello World!\")\n",
        "\n",
        "# Functions like int or str can return new values:\n",
        "def returnTwice(whatToReturn):\n",
        "  return whatToReturn + whatToReturn\n",
        "\n",
        "print(returnTwice(\"Hello World!\"))"
      ],
      "execution_count": null,
      "outputs": []
    },
    {
      "cell_type": "code",
      "metadata": {
        "id": "Gqn8eHx7MDFx"
      },
      "source": [
        "# Conditionals\n",
        "if \"Hello\" in someString:\n",
        "  print(someString + \" contains the word Hello\")\n",
        "\n",
        "if \"Goodbye\" not in someString:\n",
        "  print(someString + \" does NOT contain the word Goodbye\")\n",
        "\n",
        "if 42 > 12:\n",
        "  print(\"fourty two is bigger than twelve.\")\n",
        "elif 42 == 42:\n",
        "  print(\"fourty two is equal to fourty two\")\n",
        "else:\n",
        "  print(\"error in the matrix..\")\n",
        "\n"
      ],
      "execution_count": null,
      "outputs": []
    },
    {
      "cell_type": "code",
      "metadata": {
        "id": "lBAc0e_pOxEP"
      },
      "source": [
        "# Loops\n",
        "i = 0\n",
        "while i < 10:\n",
        "  print(\"in the loop for the \" + str(i) + \"th time\")\n",
        "  i = i + 1\n",
        "\n",
        "print(\"---\" * 6)\n",
        "\n",
        "for i in range(10):\n",
        "  print(\"in the loop for the \" + str(i) + \"th time\")"
      ],
      "execution_count": null,
      "outputs": []
    },
    {
      "cell_type": "code",
      "metadata": {
        "id": "LwCvObYNOx9Q"
      },
      "source": [
        "# Importing Packages\n",
        "\n",
        "# There is built-in functions, we can define functions, \n",
        "# but we can also use packages that contain functions!\n",
        "\n",
        "import random # we only need to do this once in a script.\n",
        "\n",
        "for i in range(10):\n",
        "  print(random.randint(0,6))\n",
        "\n",
        "# Packages can be installed on the system-level\n",
        "# For an overview see 272k projects on https://pypi.org\n",
        "\n",
        "# In development you will frequently end up reading the manuals \n",
        "# of packages to figure out how to use their functions."
      ],
      "execution_count": null,
      "outputs": []
    },
    {
      "cell_type": "markdown",
      "metadata": {
        "id": "uyvUcBEmMKht"
      },
      "source": [
        "# Part 1A Exercises"
      ]
    },
    {
      "cell_type": "code",
      "metadata": {
        "id": "L79PqT32MPCG"
      },
      "source": [
        "# Task 1A_a\n",
        "# Implement a function that prints the string \"WIN\" or \"LOOSE\" with 50% chance each."
      ],
      "execution_count": null,
      "outputs": []
    },
    {
      "cell_type": "code",
      "metadata": {
        "id": "z33XHrhZQ0zv"
      },
      "source": [
        "# Task 1A_b\n",
        "# Implement a function that returns \"WIN\" or \"LOOSE\" with 50% chance each, \n",
        "# then use it in a loop to populate a list with ten entries from the function."
      ],
      "execution_count": null,
      "outputs": []
    },
    {
      "cell_type": "code",
      "metadata": {
        "id": "RaNB4XXvQ1K8"
      },
      "source": [
        "# Task 1A_c\n",
        "# Remove all \"WIN\" entries from the list generated above."
      ],
      "execution_count": null,
      "outputs": []
    },
    {
      "cell_type": "markdown",
      "metadata": {
        "id": "rZxkkFp4Q1nT"
      },
      "source": [
        "# Part 1B: *Numpy*\n",
        "Scientific Computing in Python. We look at the numpy array, its properties, using it for calculations and some operations."
      ]
    },
    {
      "cell_type": "code",
      "metadata": {
        "id": "06WYiZRJ3syd"
      },
      "source": [
        "import numpy as np"
      ],
      "execution_count": null,
      "outputs": []
    },
    {
      "cell_type": "code",
      "metadata": {
        "id": "EYfOoVwcTXzN"
      },
      "source": [
        "# The numpy array\n",
        "\n",
        "# numpy's main object is the multidimensional array. \n",
        "# You can instantiate it in several ways:\n",
        "\n",
        "## using np.zeros:\n",
        "zeroArray = np.zeros(10)\n",
        "print(\"Zero Array (10):\")\n",
        "print(zeroArray)\n",
        "\n",
        "zeroMatrix = np.zeros((10,10))\n",
        "print(\"Zero Matrix (10,10):\")\n",
        "print(zeroMatrix)\n",
        "\n",
        "## from a python list:\n",
        "someList = [1,2,3,4,5,6]\n",
        "someArray = np.array(someList)\n",
        "print(\"Some Array:\")\n",
        "print(someList)\n",
        "\n",
        "## ... and many more"
      ],
      "execution_count": null,
      "outputs": []
    },
    {
      "cell_type": "code",
      "metadata": {
        "id": "j19tarDG4NZj"
      },
      "source": [
        "# Numpy array properties\n",
        "zeroMatrix = np.zeros((10,10))\n",
        "print(\"Zero Matrix (10,10):\")\n",
        "print(zeroMatrix)\n",
        "\n",
        "print(\"ndim:\")\n",
        "print(zeroMatrix.ndim)\n",
        "print(\"shape:\")\n",
        "print(zeroMatrix.shape)\n",
        "print(\"size:\")\n",
        "print(zeroMatrix.size)\n",
        "print(\"data type:\")\n",
        "print(zeroMatrix.dtype)"
      ],
      "execution_count": null,
      "outputs": []
    },
    {
      "cell_type": "code",
      "metadata": {
        "id": "Dli0p36v4nz9"
      },
      "source": [
        "# Numpy array arithmetic\n",
        "\n",
        "# operations apply elementwise\n",
        "a = np.array( [9,3,4,5] )\n",
        "b = np.arange( 4 )\n",
        "c = a-b\n",
        "\n",
        "print(\"a:\")\n",
        "print(a)\n",
        "\n",
        "print(\"b:\")\n",
        "print(b)\n",
        "\n",
        "print(\"c=a-b:\")\n",
        "print(c)\n",
        "\n",
        "print(\"b**2:\")\n",
        "print(b**2)\n",
        "\n",
        "print(\"10*np.sin(a)\")\n",
        "print(10*np.sin(a))\n",
        "\n",
        "print(\"a<35\")\n",
        "print(a<4)\n"
      ],
      "execution_count": null,
      "outputs": []
    },
    {
      "cell_type": "code",
      "metadata": {
        "id": "Dmt1_Nzz4qI_"
      },
      "source": [
        "# Numpy array operations\n",
        "\n",
        "# Shape manipulation:\n",
        "someArray = np.array([1,2,3,4,5,6])\n",
        "print(\"Some Array:\")\n",
        "print(someArray)\n",
        "\n",
        "someMatrix = someArray.reshape((2,3))\n",
        "print(\"Some Matrix:\")\n",
        "print(someMatrix)\n",
        "\n",
        "backToArray = someMatrix.flatten()\n",
        "print(\"Back To Array:\")\n",
        "print(backToArray)\n",
        "\n",
        "# Many more things like concatenation, mirroring, scaling, etc. all possible.\n",
        "# Ref: https://numpy.org/devdocs/docs/index.html"
      ],
      "execution_count": null,
      "outputs": []
    },
    {
      "cell_type": "code",
      "metadata": {
        "id": "fzzrNKPh4x5F"
      },
      "source": [
        "# Numpy array broadcasting\n",
        "# This describes how numpy treats operations on arrays with different sizes.\n",
        "\n",
        "# Elementwise when arrays have the same size\n",
        "a = np.array([1.0, 2.0, 3.0])\n",
        "b = np.array([2.0, 2.0, 2.0])\n",
        "print(\"a*b\")\n",
        "print(a * b)\n",
        "\n",
        "# Scalar multiplications\n",
        "a = np.array([1.0, 2.0, 3.0])\n",
        "alpha = 2.0\n",
        "print(\"a*alpha\")\n",
        "print(a * alpha)\n",
        "\n",
        "# Operating on arrays, numpy starts with the last dimension and compares.\n",
        "# Two dimensions are compatible when a) they are equal, or b) one of them is 1.\n",
        "\n",
        "# Example:\n",
        "images = np.ones((150,4,4,3)) # Could be a stack of 150 4x4 pixel RGB images.\n",
        "print(\"first image as-is:\")\n",
        "print(images[0])\n",
        "\n",
        "color_scaling = np.array([0.5,0.8,1.0]) # Scale red by half, green by 80%, leave blue.\n",
        "scaled_images = images * color_scaling\n",
        "print(\"first image color graded:\")\n",
        "print(scaled_images[0])\n",
        "\n",
        "# Dimension mismatch:\n",
        "a = np.array([1.0, 2.0, 3.0, 4.0])\n",
        "b = np.array([2.0, 2.0, 2.0])\n",
        "print(\"a*b\")\n",
        "print(a * b)"
      ],
      "execution_count": null,
      "outputs": []
    },
    {
      "cell_type": "markdown",
      "metadata": {
        "id": "Dr9hIik-S5Yx"
      },
      "source": [
        "# Part 1B *Exercises*"
      ]
    },
    {
      "cell_type": "code",
      "metadata": {
        "id": "onLEs6fMTYQ0"
      },
      "source": [
        "# Task 1B_a\n",
        "# Implement a function that returns an array length 12 with random numbers."
      ],
      "execution_count": null,
      "outputs": []
    },
    {
      "cell_type": "code",
      "metadata": {
        "id": "ZxOka1n06F_5"
      },
      "source": [
        "# Task 1B_b\n",
        "# Use the function from 1B_a to make a 12x12 matrix of random numbers iteratively."
      ],
      "execution_count": null,
      "outputs": []
    },
    {
      "cell_type": "code",
      "metadata": {
        "id": "5xgXb5GJ6H25"
      },
      "source": [
        "# Task 1B_c\n",
        "# Reshape the matrix from 1B_b to a (6,6,4) 6x6pixel RGBA image and\n",
        "# give it 100% opacity and a red-tint. \n",
        "\n",
        "\n",
        "# To visualize the result:\n",
        "import matplotlib.pyplot as plt\n",
        "plt.imshow(RESULT_ARRAY)"
      ],
      "execution_count": null,
      "outputs": []
    },
    {
      "cell_type": "markdown",
      "metadata": {
        "id": "RVKoUuNmS77A"
      },
      "source": [
        "# Part 1C: Tensorflow\n",
        "Using Tensorflow for a simple regression task.\n"
      ]
    },
    {
      "cell_type": "code",
      "metadata": {
        "id": "fFq5RzxbTYpl"
      },
      "source": [
        "import numpy as np\n",
        "import tensorflow as tf\n",
        "from tensorflow import keras\n",
        "from tensorflow.keras import layers\n",
        "from tensorflow.keras.layers.experimental import preprocessing\n",
        "import matplotlib.pyplot as plt"
      ],
      "execution_count": null,
      "outputs": []
    },
    {
      "cell_type": "code",
      "metadata": {
        "id": "fy0iuAor7N9W"
      },
      "source": [
        "# Generating toy dataset\n",
        "X = np.linspace(0, 2, 100)\n",
        "y = 1.5 * X + np.random.randn(*X.shape) * 0.2 + 0.5\n",
        "\n",
        "# Plot using matplotlib scatter function\n",
        "plt.scatter(X, y)\n",
        "plt.title(\"Toy Dataset\")\n",
        "plt.xlabel(\"x\")\n",
        "plt.ylabel(\"y\")\n",
        "plt.show()"
      ],
      "execution_count": null,
      "outputs": []
    },
    {
      "cell_type": "code",
      "metadata": {
        "id": "-i-HZHqa8NKY"
      },
      "source": [
        "# Making a model\n",
        "model = tf.keras.Sequential([\n",
        "    layers.Dense(input_shape=[1,], units=1)\n",
        "])\n",
        "\n",
        "model.summary()"
      ],
      "execution_count": null,
      "outputs": []
    },
    {
      "cell_type": "code",
      "metadata": {
        "id": "PlvYnh-o8yEJ"
      },
      "source": [
        "# Get some example predictions\n",
        "predictions = model.predict(X)\n",
        "\n",
        "# Plot using matplotlib scatter function\n",
        "plt.scatter(X, y)\n",
        "plt.scatter(X, predictions)\n",
        "plt.title(\"Toy Dataset\")\n",
        "plt.xlabel(\"x\")\n",
        "plt.ylabel(\"y\")\n",
        "plt.show()"
      ],
      "execution_count": null,
      "outputs": []
    },
    {
      "cell_type": "code",
      "metadata": {
        "id": "SUUl9Kv58zc8"
      },
      "source": [
        "# Train the model\n",
        "model.compile(optimizer=tf.optimizers.Adam(learning_rate=0.1), loss='mean_absolute_error')\n",
        "model.fit(X,y, epochs=100)"
      ],
      "execution_count": null,
      "outputs": []
    },
    {
      "cell_type": "code",
      "metadata": {
        "id": "d0skiaDt80Ti"
      },
      "source": [
        "# Evaluate the final predictions\n",
        "predictions = model.predict(X)\n",
        "\n",
        "# Plot using matplotlib scatter function\n",
        "plt.scatter(X, y)\n",
        "plt.scatter(X, predictions)\n",
        "plt.title(\"Toy Dataset\")\n",
        "plt.xlabel(\"x\")\n",
        "plt.ylabel(\"y\")\n",
        "plt.show()"
      ],
      "execution_count": null,
      "outputs": []
    },
    {
      "cell_type": "markdown",
      "metadata": {
        "id": "FSDF7R7QS8Hh"
      },
      "source": [
        "# Part 1C Exercises"
      ]
    },
    {
      "cell_type": "code",
      "metadata": {
        "id": "dcPnhPS5TZGw"
      },
      "source": [
        "# Task 1C_a\n",
        "# Try to use the same model we used in the linear regression example to model the following data:\n",
        "\n",
        "X = np.linspace(0, 2, 100)\n",
        "y = 1.5 * np.sin(X**2) + np.random.randn(*X.shape) * 0.2 + 0.5\n",
        "\n",
        "# Plot using matplotlib scatter function\n",
        "plt.scatter(X, y)\n",
        "plt.title(\"Toy Dataset 2\")\n",
        "plt.xlabel(\"x\")\n",
        "plt.ylabel(\"y\")\n",
        "plt.show()\n",
        "\n",
        "# Solution"
      ],
      "execution_count": null,
      "outputs": []
    },
    {
      "cell_type": "code",
      "metadata": {
        "id": "GV9-zLdp9GDt"
      },
      "source": [
        "# Task 1C_b\n",
        "# Make changes to the model used in the linear regression example to model the new data:\n",
        "\n",
        "X = np.linspace(0, 2, 100)\n",
        "y = 1.5 * np.sin(X**2) + np.random.randn(*X.shape) * 0.2 + 0.5\n",
        "\n",
        "# Plot using matplotlib scatter function\n",
        "plt.scatter(X, y)\n",
        "plt.title(\"Toy Dataset 2\")\n",
        "plt.xlabel(\"x\")\n",
        "plt.ylabel(\"y\")\n",
        "plt.show()\n",
        "\n",
        "# Solution"
      ],
      "execution_count": null,
      "outputs": []
    },
    {
      "cell_type": "code",
      "metadata": {
        "id": "gMmwpBrJC55m"
      },
      "source": [
        ""
      ],
      "execution_count": null,
      "outputs": []
    },
    {
      "cell_type": "markdown",
      "metadata": {
        "id": "Hu40aUjrAeyD"
      },
      "source": [
        "# Part 1D: Experiments"
      ]
    },
    {
      "cell_type": "code",
      "metadata": {
        "id": "4zzDQDS3Ahw0"
      },
      "source": [
        "# Task 1D notepad\n",
        "# Demonstrate what happens when you train on partial data\n",
        "X = np.linspace(0, 2, 100)\n",
        "y = 1.5 * np.sin(X**2) + np.random.randn(*X.shape) * 0.2 + 0.5\n",
        "\n",
        "# Plot using matplotlib scatter function\n",
        "# plt.scatter(X, y)\n",
        "# plt.title(\"Toy Dataset 2\")\n",
        "# plt.xlabel(\"x\")\n",
        "# plt.ylabel(\"y\")\n",
        "# plt.show()\n",
        "\n",
        "# Making a model\n",
        "model = tf.keras.Sequential([\n",
        "    layers.Dense(input_shape=[1,], units=1, activation=\"tanh\"),\n",
        "    layers.Dense(units=4, activation=\"tanh\"),\n",
        "    layers.Dense(units=1)\n",
        "])\n",
        "\n",
        "# model.summary()\n",
        "\n",
        "## limit training\n",
        "train_start = 30\n",
        "train_end = 80\n",
        "\n",
        "# Train the model\n",
        "model.compile(optimizer=tf.optimizers.Adam(learning_rate=0.1), loss='mean_absolute_error')\n",
        "history = model.fit(X[train_start:train_end],y[train_start:train_end], epochs=1000, verbose=0)\n",
        "\n",
        "# Plot the loss\n",
        "plt.plot(history.history['loss'])\n",
        "plt.show()\n",
        "\n",
        "# Evaluate the final predictions\n",
        "predictions = model.predict(X)\n",
        "\n",
        "# Plot using matplotlib scatter function\n",
        "plt.scatter(X, y)\n",
        "plt.scatter(X[train_start:train_end],y[train_start:train_end])\n",
        "plt.scatter(X, predictions)\n",
        "plt.title(\"Toy Dataset\")\n",
        "plt.xlabel(\"x\")\n",
        "plt.ylabel(\"y\")\n",
        "plt.show()"
      ],
      "execution_count": null,
      "outputs": []
    },
    {
      "cell_type": "code",
      "metadata": {
        "id": "RS1jTgXQAwK6"
      },
      "source": [
        ""
      ],
      "execution_count": null,
      "outputs": []
    }
  ]
}